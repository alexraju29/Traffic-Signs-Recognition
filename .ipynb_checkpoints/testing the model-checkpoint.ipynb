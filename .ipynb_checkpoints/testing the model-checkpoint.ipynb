{
 "cells": [
  {
   "cell_type": "code",
   "execution_count": 1,
   "id": "9bd7caa1",
   "metadata": {},
   "outputs": [
    {
     "name": "stderr",
     "output_type": "stream",
     "text": [
      "2023-05-03 20:31:41.945001: I tensorflow/core/platform/cpu_feature_guard.cc:193] This TensorFlow binary is optimized with oneAPI Deep Neural Network Library (oneDNN) to use the following CPU instructions in performance-critical operations:  SSE4.1 SSE4.2 AVX AVX2 FMA\n",
      "To enable them in other operations, rebuild TensorFlow with the appropriate compiler flags.\n"
     ]
    }
   ],
   "source": [
    "import pandas as pd\n",
    "import numpy as np\n",
    "import matplotlib.pyplot as plt\n",
    "%matplotlib inline\n",
    "import tensorflow as tf\n",
    "from tensorflow import keras\n",
    "import os\n",
    "from PIL import Image\n",
    "from sklearn.model_selection import train_test_split\n",
    "from tensorflow.keras.utils import to_categorical"
   ]
  },
  {
   "cell_type": "code",
   "execution_count": 2,
   "id": "69ce07ea",
   "metadata": {},
   "outputs": [
    {
     "name": "stderr",
     "output_type": "stream",
     "text": [
      "2023-05-03 20:31:46.297010: I tensorflow/core/platform/cpu_feature_guard.cc:193] This TensorFlow binary is optimized with oneAPI Deep Neural Network Library (oneDNN) to use the following CPU instructions in performance-critical operations:  SSE4.1 SSE4.2 AVX AVX2 FMA\n",
      "To enable them in other operations, rebuild TensorFlow with the appropriate compiler flags.\n",
      "2023-05-03 20:31:46.304724: I tensorflow/core/common_runtime/process_util.cc:146] Creating new thread pool with default inter op setting: 2. Tune using inter_op_parallelism_threads for best performance.\n"
     ]
    }
   ],
   "source": [
    "model = keras.models.load_model('traffic_classifier.h5')"
   ]
  },
  {
   "cell_type": "code",
   "execution_count": 5,
   "id": "4a33a91d",
   "metadata": {},
   "outputs": [
    {
     "data": {
      "text/plain": [
       "['13.png',\n",
       " '25.png',\n",
       " '2.png',\n",
       " '30.png',\n",
       " '32.png',\n",
       " '24.png',\n",
       " 'images.png',\n",
       " '0.png',\n",
       " '40.png',\n",
       " '11.png',\n",
       " '15.png',\n",
       " '28.png',\n",
       " '27.png',\n",
       " '29.png',\n",
       " '4.png',\n",
       " '31.png',\n",
       " '34.png',\n",
       " '.~lock.ClassesInformation.ods#',\n",
       " '26.png',\n",
       " '8.png',\n",
       " '39.png',\n",
       " '6.png',\n",
       " '17.png',\n",
       " '22.png',\n",
       " '9.png',\n",
       " '10.png',\n",
       " '12.png',\n",
       " '41.png',\n",
       " '35.png',\n",
       " '7.png',\n",
       " '18.png',\n",
       " '33.png',\n",
       " '5.png',\n",
       " '23.png',\n",
       " '.~lock.ClassesInformationStrong.ods#',\n",
       " '37.png',\n",
       " '19.png',\n",
       " '42.png',\n",
       " '14.png',\n",
       " '38.png',\n",
       " '36.png',\n",
       " '1.png',\n",
       " '20.png',\n",
       " '16.png',\n",
       " '21.png',\n",
       " '3.png']"
      ]
     },
     "execution_count": 5,
     "metadata": {},
     "output_type": "execute_result"
    }
   ],
   "source": [
    "def image_scaling(image):\n",
    "    image = Image.open(image)\n",
    "    image = image.resize((30,30))\n",
    "    image = np.array(image)\n",
    "    if len(image.shape) > 2 and image.shape[2] == 4:\n",
    "        image = image[:, :, :3]\n",
    "    print(type(image))\n",
    "    print(image.shape)\n",
    "    plt.imshow(image)\n",
    "    return image\n",
    "\n",
    "\n",
    "\n",
    "path = os.path.join('Meta')\n",
    "images = os.listdir(path)\n",
    "images"
   ]
  },
  {
   "cell_type": "code",
   "execution_count": 14,
   "id": "bd8f8900",
   "metadata": {},
   "outputs": [
    {
     "name": "stdout",
     "output_type": "stream",
     "text": [
      "<class 'numpy.ndarray'>\n",
      "(30, 30, 3)\n"
     ]
    },
    {
     "data": {
      "image/png": "[encoded data removed]",
      "text/plain": [
       "<Figure size 640x480 with 1 Axes>"
      ]
     },
     "metadata": {},
     "output_type": "display_data"
    }
   ],
   "source": [
    "test_image = image_scaling(f'Meta/{images[7]}')"
   ]
  },
  {
   "cell_type": "code",
   "execution_count": 15,
   "id": "6038c0c2",
   "metadata": {},
   "outputs": [
    {
     "data": {
      "text/plain": [
       "(30, 30, 3)"
      ]
     },
     "execution_count": 15,
     "metadata": {},
     "output_type": "execute_result"
    }
   ],
   "source": [
    "test_image.shape"
   ]
  },
  {
   "cell_type": "code",
   "execution_count": 16,
   "id": "55a68d8a",
   "metadata": {},
   "outputs": [
    {
     "name": "stdout",
     "output_type": "stream",
     "text": [
      "1/1 [==============================] - 0s 33ms/step\n"
     ]
    }
   ],
   "source": [
    "value = model.predict(test_image[None, ...])"
   ]
  },
  {
   "cell_type": "code",
   "execution_count": 17,
   "id": "1a88aa5b",
   "metadata": {},
   "outputs": [],
   "source": [
    "classes = { 1:'Speed limit (20km/h)',\n",
    "            2:'Speed limit (30km/h)',      \n",
    "            3:'Speed limit (50km/h)',       \n",
    "            4:'Speed limit (60km/h)',      \n",
    "            5:'Speed limit (70km/h)',    \n",
    "            6:'Speed limit (80km/h)',      \n",
    "            7:'End of speed limit (80km/h)',     \n",
    "            8:'Speed limit (100km/h)',    \n",
    "            9:'Speed limit (120km/h)',     \n",
    "           10:'No passing',   \n",
    "           11:'No passing veh over 3.5 tons',     \n",
    "           12:'Right-of-way at intersection',     \n",
    "           13:'Priority road',    \n",
    "           14:'Yield',     \n",
    "           15:'Stop',       \n",
    "           16:'No vehicles',       \n",
    "           17:'Veh > 3.5 tons prohibited',       \n",
    "           18:'No entry',       \n",
    "           19:'General caution',     \n",
    "           20:'Dangerous curve left',      \n",
    "           21:'Dangerous curve right',   \n",
    "           22:'Double curve',      \n",
    "           23:'Bumpy road',     \n",
    "           24:'Slippery road',       \n",
    "           25:'Road narrows on the right',  \n",
    "           26:'Road work',    \n",
    "           27:'Traffic signals',      \n",
    "           28:'Pedestrians',     \n",
    "           29:'Children crossing',     \n",
    "           30:'Bicycles crossing',       \n",
    "           31:'Beware of ice/snow',\n",
    "           32:'Wild animals crossing',      \n",
    "           33:'End speed + passing limits',      \n",
    "           34:'Turn right ahead',     \n",
    "           35:'Turn left ahead',       \n",
    "           36:'Ahead only',      \n",
    "           37:'Go straight or right',      \n",
    "           38:'Go straight or left',      \n",
    "           39:'Keep right',     \n",
    "           40:'Keep left',      \n",
    "           41:'Roundabout mandatory',     \n",
    "           42:'End of no passing',      \n",
    "           43:'End no passing veh > 3.5 tons' }"
   ]
  },
  {
   "cell_type": "code",
   "execution_count": 19,
   "id": "5d848e27",
   "metadata": {},
   "outputs": [
    {
     "ename": "KeyError",
     "evalue": "0",
     "output_type": "error",
     "traceback": [
      "\u001b[0;31m---------------------------------------------------------------------------\u001b[0m",
      "\u001b[0;31mKeyError\u001b[0m                                  Traceback (most recent call last)",
      "Cell \u001b[0;32mIn[19], line 1\u001b[0m\n\u001b[0;32m----> 1\u001b[0m \u001b[43mclasses\u001b[49m\u001b[43m[\u001b[49m\u001b[43mnp\u001b[49m\u001b[38;5;241;43m.\u001b[39;49m\u001b[43margmax\u001b[49m\u001b[43m(\u001b[49m\u001b[43mvalue\u001b[49m\u001b[43m)\u001b[49m\u001b[43m]\u001b[49m\n",
      "\u001b[0;31mKeyError\u001b[0m: 0"
     ]
    }
   ],
   "source": [
    "classes[np.argmax(value)]"
   ]
  },
  {
   "cell_type": "code",
   "execution_count": null,
   "id": "e9755499",
   "metadata": {},
   "outputs": [],
   "source": []
  }
 ],
 "metadata": {
  "kernelspec": {
   "display_name": "Python 3 (ipykernel)",
   "language": "python",
   "name": "python3"
  },
  "language_info": {
   "codemirror_mode": {
    "name": "ipython",
    "version": 3
   },
   "file_extension": ".py",
   "mimetype": "text/x-python",
   "name": "python",
   "nbconvert_exporter": "python",
   "pygments_lexer": "ipython3",
   "version": "3.10.9"
  }
 },
 "nbformat": 4,
 "nbformat_minor": 5
}
